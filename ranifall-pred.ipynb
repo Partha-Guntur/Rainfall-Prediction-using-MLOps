{
 "cells": [
  {
   "cell_type": "markdown",
   "metadata": {},
   "source": [
    "1. Data Cleaning\n",
    "2. Preprocessing\n",
    "3. Visualization\n",
    "4. Poly Models Building\n",
    "5. Saving the model"
   ]
  },
  {
   "cell_type": "code",
   "execution_count": 113,
   "metadata": {},
   "outputs": [],
   "source": [
    "import pandas as pd\n",
    "import numpy as np\n",
    "import matplotlib.pyplot as plt\n",
    "import seaborn as sns\n",
    "import datetime\n",
    "from sklearn.preprocessing import MinMaxScaler, StandardScaler"
   ]
  },
  {
   "cell_type": "code",
   "execution_count": 114,
   "metadata": {},
   "outputs": [
    {
     "data": {
      "text/html": [
       "<div>\n",
       "<style scoped>\n",
       "    .dataframe tbody tr th:only-of-type {\n",
       "        vertical-align: middle;\n",
       "    }\n",
       "\n",
       "    .dataframe tbody tr th {\n",
       "        vertical-align: top;\n",
       "    }\n",
       "\n",
       "    .dataframe thead th {\n",
       "        text-align: right;\n",
       "    }\n",
       "</style>\n",
       "<table border=\"1\" class=\"dataframe\">\n",
       "  <thead>\n",
       "    <tr style=\"text-align: right;\">\n",
       "      <th></th>\n",
       "      <th>day</th>\n",
       "      <th>pressure</th>\n",
       "      <th>maxtemp</th>\n",
       "      <th>temparature</th>\n",
       "      <th>mintemp</th>\n",
       "      <th>dewpoint</th>\n",
       "      <th>humidity</th>\n",
       "      <th>cloud</th>\n",
       "      <th>rainfall</th>\n",
       "      <th>sunshine</th>\n",
       "      <th>winddirection</th>\n",
       "      <th>windspeed</th>\n",
       "    </tr>\n",
       "  </thead>\n",
       "  <tbody>\n",
       "    <tr>\n",
       "      <th>0</th>\n",
       "      <td>1</td>\n",
       "      <td>1025.9</td>\n",
       "      <td>19.9</td>\n",
       "      <td>18.3</td>\n",
       "      <td>16.8</td>\n",
       "      <td>13.1</td>\n",
       "      <td>72</td>\n",
       "      <td>49</td>\n",
       "      <td>yes</td>\n",
       "      <td>9.3</td>\n",
       "      <td>80.0</td>\n",
       "      <td>26.3</td>\n",
       "    </tr>\n",
       "    <tr>\n",
       "      <th>1</th>\n",
       "      <td>2</td>\n",
       "      <td>1022.0</td>\n",
       "      <td>21.7</td>\n",
       "      <td>18.9</td>\n",
       "      <td>17.2</td>\n",
       "      <td>15.6</td>\n",
       "      <td>81</td>\n",
       "      <td>83</td>\n",
       "      <td>yes</td>\n",
       "      <td>0.6</td>\n",
       "      <td>50.0</td>\n",
       "      <td>15.3</td>\n",
       "    </tr>\n",
       "    <tr>\n",
       "      <th>2</th>\n",
       "      <td>3</td>\n",
       "      <td>1019.7</td>\n",
       "      <td>20.3</td>\n",
       "      <td>19.3</td>\n",
       "      <td>18.0</td>\n",
       "      <td>18.4</td>\n",
       "      <td>95</td>\n",
       "      <td>91</td>\n",
       "      <td>yes</td>\n",
       "      <td>0.0</td>\n",
       "      <td>40.0</td>\n",
       "      <td>14.2</td>\n",
       "    </tr>\n",
       "    <tr>\n",
       "      <th>3</th>\n",
       "      <td>4</td>\n",
       "      <td>1018.9</td>\n",
       "      <td>22.3</td>\n",
       "      <td>20.6</td>\n",
       "      <td>19.1</td>\n",
       "      <td>18.8</td>\n",
       "      <td>90</td>\n",
       "      <td>88</td>\n",
       "      <td>yes</td>\n",
       "      <td>1.0</td>\n",
       "      <td>50.0</td>\n",
       "      <td>16.9</td>\n",
       "    </tr>\n",
       "    <tr>\n",
       "      <th>4</th>\n",
       "      <td>5</td>\n",
       "      <td>1015.9</td>\n",
       "      <td>21.3</td>\n",
       "      <td>20.7</td>\n",
       "      <td>20.2</td>\n",
       "      <td>19.9</td>\n",
       "      <td>95</td>\n",
       "      <td>81</td>\n",
       "      <td>yes</td>\n",
       "      <td>0.0</td>\n",
       "      <td>40.0</td>\n",
       "      <td>13.7</td>\n",
       "    </tr>\n",
       "    <tr>\n",
       "      <th>5</th>\n",
       "      <td>6</td>\n",
       "      <td>1018.8</td>\n",
       "      <td>24.3</td>\n",
       "      <td>20.9</td>\n",
       "      <td>19.2</td>\n",
       "      <td>18.0</td>\n",
       "      <td>84</td>\n",
       "      <td>51</td>\n",
       "      <td>yes</td>\n",
       "      <td>7.7</td>\n",
       "      <td>20.0</td>\n",
       "      <td>14.5</td>\n",
       "    </tr>\n",
       "    <tr>\n",
       "      <th>6</th>\n",
       "      <td>7</td>\n",
       "      <td>1021.8</td>\n",
       "      <td>21.4</td>\n",
       "      <td>18.8</td>\n",
       "      <td>17.0</td>\n",
       "      <td>15.0</td>\n",
       "      <td>79</td>\n",
       "      <td>56</td>\n",
       "      <td>no</td>\n",
       "      <td>3.4</td>\n",
       "      <td>30.0</td>\n",
       "      <td>21.5</td>\n",
       "    </tr>\n",
       "    <tr>\n",
       "      <th>7</th>\n",
       "      <td>8</td>\n",
       "      <td>1020.8</td>\n",
       "      <td>21.0</td>\n",
       "      <td>18.4</td>\n",
       "      <td>16.5</td>\n",
       "      <td>14.4</td>\n",
       "      <td>78</td>\n",
       "      <td>28</td>\n",
       "      <td>no</td>\n",
       "      <td>7.7</td>\n",
       "      <td>60.0</td>\n",
       "      <td>14.3</td>\n",
       "    </tr>\n",
       "    <tr>\n",
       "      <th>8</th>\n",
       "      <td>9</td>\n",
       "      <td>1020.6</td>\n",
       "      <td>18.9</td>\n",
       "      <td>18.1</td>\n",
       "      <td>17.1</td>\n",
       "      <td>14.3</td>\n",
       "      <td>78</td>\n",
       "      <td>79</td>\n",
       "      <td>no</td>\n",
       "      <td>3.3</td>\n",
       "      <td>70.0</td>\n",
       "      <td>39.3</td>\n",
       "    </tr>\n",
       "    <tr>\n",
       "      <th>9</th>\n",
       "      <td>10</td>\n",
       "      <td>1017.5</td>\n",
       "      <td>18.5</td>\n",
       "      <td>18.0</td>\n",
       "      <td>17.2</td>\n",
       "      <td>15.5</td>\n",
       "      <td>85</td>\n",
       "      <td>91</td>\n",
       "      <td>yes</td>\n",
       "      <td>0.0</td>\n",
       "      <td>70.0</td>\n",
       "      <td>37.7</td>\n",
       "    </tr>\n",
       "  </tbody>\n",
       "</table>\n",
       "</div>"
      ],
      "text/plain": [
       "   day  pressure   maxtemp  temparature  mintemp  dewpoint  humidity   cloud   \\\n",
       "0    1     1025.9     19.9         18.3     16.8      13.1         72      49   \n",
       "1    2     1022.0     21.7         18.9     17.2      15.6         81      83   \n",
       "2    3     1019.7     20.3         19.3     18.0      18.4         95      91   \n",
       "3    4     1018.9     22.3         20.6     19.1      18.8         90      88   \n",
       "4    5     1015.9     21.3         20.7     20.2      19.9         95      81   \n",
       "5    6     1018.8     24.3         20.9     19.2      18.0         84      51   \n",
       "6    7     1021.8     21.4         18.8     17.0      15.0         79      56   \n",
       "7    8     1020.8     21.0         18.4     16.5      14.4         78      28   \n",
       "8    9     1020.6     18.9         18.1     17.1      14.3         78      79   \n",
       "9   10     1017.5     18.5         18.0     17.2      15.5         85      91   \n",
       "\n",
       "  rainfall  sunshine           winddirection  windspeed  \n",
       "0      yes       9.3                    80.0       26.3  \n",
       "1      yes       0.6                    50.0       15.3  \n",
       "2      yes       0.0                    40.0       14.2  \n",
       "3      yes       1.0                    50.0       16.9  \n",
       "4      yes       0.0                    40.0       13.7  \n",
       "5      yes       7.7                    20.0       14.5  \n",
       "6       no       3.4                    30.0       21.5  \n",
       "7       no       7.7                    60.0       14.3  \n",
       "8       no       3.3                    70.0       39.3  \n",
       "9      yes       0.0                    70.0       37.7  "
      ]
     },
     "execution_count": 114,
     "metadata": {},
     "output_type": "execute_result"
    }
   ],
   "source": [
    "df = pd.read_csv('/Users/partha/Desktop/Rainfall-MLOps/data/Rainfall.csv')\n",
    "df.head(10)"
   ]
  },
  {
   "cell_type": "code",
   "execution_count": 115,
   "metadata": {},
   "outputs": [
    {
     "data": {
      "text/plain": [
       "day              0\n",
       "pressure         0\n",
       "maxtemp          0\n",
       "temparature      0\n",
       "mintemp          0\n",
       "dewpoint         0\n",
       "humidity         0\n",
       "cloud            0\n",
       "rainfall         0\n",
       "sunshine         0\n",
       "winddirection    1\n",
       "windspeed        1\n",
       "dtype: int64"
      ]
     },
     "execution_count": 115,
     "metadata": {},
     "output_type": "execute_result"
    }
   ],
   "source": [
    "df.rename(columns={'         winddirection':'winddirection'}, inplace=True)\n",
    "df.isnull().sum()"
   ]
  },
  {
   "cell_type": "code",
   "execution_count": 116,
   "metadata": {},
   "outputs": [
    {
     "name": "stdout",
     "output_type": "stream",
     "text": [
      "<class 'pandas.core.frame.DataFrame'>\n",
      "RangeIndex: 366 entries, 0 to 365\n",
      "Data columns (total 12 columns):\n",
      " #   Column         Non-Null Count  Dtype  \n",
      "---  ------         --------------  -----  \n",
      " 0   day            366 non-null    int64  \n",
      " 1   pressure       366 non-null    float64\n",
      " 2   maxtemp        366 non-null    float64\n",
      " 3   temparature    366 non-null    float64\n",
      " 4   mintemp        366 non-null    float64\n",
      " 5   dewpoint       366 non-null    float64\n",
      " 6   humidity       366 non-null    int64  \n",
      " 7   cloud          366 non-null    int64  \n",
      " 8   rainfall       366 non-null    object \n",
      " 9   sunshine       366 non-null    float64\n",
      " 10  winddirection  365 non-null    float64\n",
      " 11  windspeed      365 non-null    float64\n",
      "dtypes: float64(8), int64(3), object(1)\n",
      "memory usage: 34.4+ KB\n"
     ]
    }
   ],
   "source": [
    "df.info()"
   ]
  },
  {
   "cell_type": "code",
   "execution_count": 117,
   "metadata": {},
   "outputs": [
    {
     "data": {
      "text/html": [
       "<div>\n",
       "<style scoped>\n",
       "    .dataframe tbody tr th:only-of-type {\n",
       "        vertical-align: middle;\n",
       "    }\n",
       "\n",
       "    .dataframe tbody tr th {\n",
       "        vertical-align: top;\n",
       "    }\n",
       "\n",
       "    .dataframe thead th {\n",
       "        text-align: right;\n",
       "    }\n",
       "</style>\n",
       "<table border=\"1\" class=\"dataframe\">\n",
       "  <thead>\n",
       "    <tr style=\"text-align: right;\">\n",
       "      <th></th>\n",
       "      <th>day</th>\n",
       "      <th>pressure</th>\n",
       "      <th>maxtemp</th>\n",
       "      <th>temparature</th>\n",
       "      <th>mintemp</th>\n",
       "      <th>dewpoint</th>\n",
       "      <th>humidity</th>\n",
       "      <th>cloud</th>\n",
       "      <th>sunshine</th>\n",
       "      <th>winddirection</th>\n",
       "      <th>windspeed</th>\n",
       "    </tr>\n",
       "  </thead>\n",
       "  <tbody>\n",
       "    <tr>\n",
       "      <th>count</th>\n",
       "      <td>366.000000</td>\n",
       "      <td>366.000000</td>\n",
       "      <td>366.000000</td>\n",
       "      <td>366.000000</td>\n",
       "      <td>366.000000</td>\n",
       "      <td>366.000000</td>\n",
       "      <td>366.000000</td>\n",
       "      <td>366.000000</td>\n",
       "      <td>366.000000</td>\n",
       "      <td>365.000000</td>\n",
       "      <td>365.000000</td>\n",
       "    </tr>\n",
       "    <tr>\n",
       "      <th>mean</th>\n",
       "      <td>15.756831</td>\n",
       "      <td>1013.742623</td>\n",
       "      <td>26.191257</td>\n",
       "      <td>23.747268</td>\n",
       "      <td>21.894536</td>\n",
       "      <td>19.989071</td>\n",
       "      <td>80.177596</td>\n",
       "      <td>71.128415</td>\n",
       "      <td>4.419399</td>\n",
       "      <td>101.506849</td>\n",
       "      <td>21.536986</td>\n",
       "    </tr>\n",
       "    <tr>\n",
       "      <th>std</th>\n",
       "      <td>8.823592</td>\n",
       "      <td>6.414776</td>\n",
       "      <td>5.978343</td>\n",
       "      <td>5.632813</td>\n",
       "      <td>5.594153</td>\n",
       "      <td>5.997021</td>\n",
       "      <td>10.062470</td>\n",
       "      <td>21.798012</td>\n",
       "      <td>3.934398</td>\n",
       "      <td>81.723724</td>\n",
       "      <td>10.069712</td>\n",
       "    </tr>\n",
       "    <tr>\n",
       "      <th>min</th>\n",
       "      <td>1.000000</td>\n",
       "      <td>998.500000</td>\n",
       "      <td>7.100000</td>\n",
       "      <td>4.900000</td>\n",
       "      <td>3.100000</td>\n",
       "      <td>-0.400000</td>\n",
       "      <td>36.000000</td>\n",
       "      <td>0.000000</td>\n",
       "      <td>0.000000</td>\n",
       "      <td>10.000000</td>\n",
       "      <td>4.400000</td>\n",
       "    </tr>\n",
       "    <tr>\n",
       "      <th>25%</th>\n",
       "      <td>8.000000</td>\n",
       "      <td>1008.500000</td>\n",
       "      <td>21.200000</td>\n",
       "      <td>18.825000</td>\n",
       "      <td>17.125000</td>\n",
       "      <td>16.125000</td>\n",
       "      <td>75.000000</td>\n",
       "      <td>58.000000</td>\n",
       "      <td>0.500000</td>\n",
       "      <td>40.000000</td>\n",
       "      <td>13.700000</td>\n",
       "    </tr>\n",
       "    <tr>\n",
       "      <th>50%</th>\n",
       "      <td>16.000000</td>\n",
       "      <td>1013.000000</td>\n",
       "      <td>27.750000</td>\n",
       "      <td>25.450000</td>\n",
       "      <td>23.700000</td>\n",
       "      <td>21.950000</td>\n",
       "      <td>80.500000</td>\n",
       "      <td>80.000000</td>\n",
       "      <td>3.500000</td>\n",
       "      <td>70.000000</td>\n",
       "      <td>20.500000</td>\n",
       "    </tr>\n",
       "    <tr>\n",
       "      <th>75%</th>\n",
       "      <td>23.000000</td>\n",
       "      <td>1018.100000</td>\n",
       "      <td>31.200000</td>\n",
       "      <td>28.600000</td>\n",
       "      <td>26.575000</td>\n",
       "      <td>25.000000</td>\n",
       "      <td>87.000000</td>\n",
       "      <td>88.000000</td>\n",
       "      <td>8.200000</td>\n",
       "      <td>190.000000</td>\n",
       "      <td>27.900000</td>\n",
       "    </tr>\n",
       "    <tr>\n",
       "      <th>max</th>\n",
       "      <td>31.000000</td>\n",
       "      <td>1034.600000</td>\n",
       "      <td>36.300000</td>\n",
       "      <td>32.400000</td>\n",
       "      <td>30.000000</td>\n",
       "      <td>26.700000</td>\n",
       "      <td>98.000000</td>\n",
       "      <td>100.000000</td>\n",
       "      <td>12.100000</td>\n",
       "      <td>350.000000</td>\n",
       "      <td>59.500000</td>\n",
       "    </tr>\n",
       "  </tbody>\n",
       "</table>\n",
       "</div>"
      ],
      "text/plain": [
       "              day    pressure      maxtemp  temparature     mintemp  \\\n",
       "count  366.000000   366.000000  366.000000   366.000000  366.000000   \n",
       "mean    15.756831  1013.742623   26.191257    23.747268   21.894536   \n",
       "std      8.823592     6.414776    5.978343     5.632813    5.594153   \n",
       "min      1.000000   998.500000    7.100000     4.900000    3.100000   \n",
       "25%      8.000000  1008.500000   21.200000    18.825000   17.125000   \n",
       "50%     16.000000  1013.000000   27.750000    25.450000   23.700000   \n",
       "75%     23.000000  1018.100000   31.200000    28.600000   26.575000   \n",
       "max     31.000000  1034.600000   36.300000    32.400000   30.000000   \n",
       "\n",
       "         dewpoint   humidity       cloud     sunshine  winddirection  \\\n",
       "count  366.000000  366.000000  366.000000  366.000000     365.000000   \n",
       "mean    19.989071   80.177596   71.128415    4.419399     101.506849   \n",
       "std      5.997021   10.062470   21.798012    3.934398      81.723724   \n",
       "min     -0.400000   36.000000    0.000000    0.000000      10.000000   \n",
       "25%     16.125000   75.000000   58.000000    0.500000      40.000000   \n",
       "50%     21.950000   80.500000   80.000000    3.500000      70.000000   \n",
       "75%     25.000000   87.000000   88.000000    8.200000     190.000000   \n",
       "max     26.700000   98.000000  100.000000   12.100000     350.000000   \n",
       "\n",
       "        windspeed  \n",
       "count  365.000000  \n",
       "mean    21.536986  \n",
       "std     10.069712  \n",
       "min      4.400000  \n",
       "25%     13.700000  \n",
       "50%     20.500000  \n",
       "75%     27.900000  \n",
       "max     59.500000  "
      ]
     },
     "execution_count": 117,
     "metadata": {},
     "output_type": "execute_result"
    }
   ],
   "source": [
    "df.describe()"
   ]
  },
  {
   "cell_type": "code",
   "execution_count": 118,
   "metadata": {},
   "outputs": [],
   "source": [
    "df['winddirection'] = df['winddirection'].fillna(df['winddirection'].mean())\n",
    "df['windspeed'] = df['windspeed'].ffill()"
   ]
  },
  {
   "cell_type": "code",
   "execution_count": 119,
   "metadata": {},
   "outputs": [],
   "source": [
    "pd.set_option('future.no_silent_downcasting', True)\n",
    "df['rainfall'] = df['rainfall'].replace({'yes': 1, 'no': 0})"
   ]
  },
  {
   "cell_type": "markdown",
   "metadata": {},
   "source": [
    "# Data preprocessing"
   ]
  },
  {
   "cell_type": "code",
   "execution_count": 120,
   "metadata": {},
   "outputs": [],
   "source": [
    "df['Date'] = pd.date_range(start='2023-01-01', periods=len(df), freq='D')\n",
    "df.set_index('Date', inplace=True)\n",
    "if 'day' in df.columns:\n",
    "    df.drop(columns=['day'], inplace=True)\n"
   ]
  },
  {
   "cell_type": "code",
   "execution_count": 121,
   "metadata": {},
   "outputs": [
    {
     "data": {
      "image/png": "[encoded data removed]",
      "text/plain": [
       "<Figure size 1200x600 with 1 Axes>"
      ]
     },
     "metadata": {},
     "output_type": "display_data"
    }
   ],
   "source": [
    "plt.figure(figsize=(12, 6))\n",
    "plt.plot(df.index, df['rainfall'], color='blue', alpha=0.7)\n",
    "plt.title('Rainfall Over Time')\n",
    "plt.xlabel('Date')\n",
    "plt.ylabel('Rainfall (yes=1, no=0)')\n",
    "plt.grid()\n",
    "plt.show()"
   ]
  },
  {
   "cell_type": "code",
   "execution_count": 123,
   "metadata": {},
   "outputs": [],
   "source": [
    "df['rainfall'] = pd.to_numeric(df['rainfall'], errors='coerce')\n",
    "min_max = MinMaxScaler()\n",
    "df['pressure '] = min_max.fit_transform(df[['pressure ']])\n",
    "df['humidity '] = min_max.fit_transform(df[['humidity ']])\n",
    "df['maxtemp'] = min_max.fit_transform(df[['maxtemp']])\n",
    "df['temparature'] = min_max.fit_transform(df[['temparature']])\n",
    "df['mintemp'] = min_max.fit_transform(df[['mintemp']])\n",
    "df['dewpoint'] = min_max.fit_transform(df[['dewpoint']])\n",
    "df['cloud '] = min_max.fit_transform(df[['cloud ']])\n",
    "df['sunshine'] = min_max.fit_transform(df[['sunshine']])\n",
    "df['winddirection'] = min_max.fit_transform(df[['winddirection']])\n",
    "df['windspeed'] = min_max.fit_transform(df[['windspeed']])\n",
    "\n"
   ]
  },
  {
   "cell_type": "code",
   "execution_count": 125,
   "metadata": {},
   "outputs": [],
   "source": [
    "import numpy as np\n",
    "import pandas as pd\n",
    "from sklearn.ensemble import RandomForestClassifier, GradientBoostingClassifier\n",
    "from sklearn.linear_model import LogisticRegression\n",
    "from sklearn.model_selection import train_test_split\n",
    "from sklearn.metrics import accuracy_score\n"
   ]
  },
  {
   "cell_type": "code",
   "execution_count": 126,
   "metadata": {},
   "outputs": [],
   "source": [
    "X = df.drop(columns=['rainfall'])\n",
    "y = df['rainfall']\n",
    "\n",
    "X_train, X_test, y_train, y_test = train_test_split(X, y, test_size=0.2, random_state=42)\n"
   ]
  },
  {
   "cell_type": "code",
   "execution_count": null,
   "metadata": {},
   "outputs": [
    {
     "data": {
      "text/html": [
       "<style>#sk-container-id-5 {color: black;background-color: white;}#sk-container-id-5 pre{padding: 0;}#sk-container-id-5 div.sk-toggleable {background-color: white;}#sk-container-id-5 label.sk-toggleable__label {cursor: pointer;display: block;width: 100%;margin-bottom: 0;padding: 0.3em;box-sizing: border-box;text-align: center;}#sk-container-id-5 label.sk-toggleable__label-arrow:before {content: \"▸\";float: left;margin-right: 0.25em;color: #696969;}#sk-container-id-5 label.sk-toggleable__label-arrow:hover:before {color: black;}#sk-container-id-5 div.sk-estimator:hover label.sk-toggleable__label-arrow:before {color: black;}#sk-container-id-5 div.sk-toggleable__content {max-height: 0;max-width: 0;overflow: hidden;text-align: left;background-color: #f0f8ff;}#sk-container-id-5 div.sk-toggleable__content pre {margin: 0.2em;color: black;border-radius: 0.25em;background-color: #f0f8ff;}#sk-container-id-5 input.sk-toggleable__control:checked~div.sk-toggleable__content {max-height: 200px;max-width: 100%;overflow: auto;}#sk-container-id-5 input.sk-toggleable__control:checked~label.sk-toggleable__label-arrow:before {content: \"▾\";}#sk-container-id-5 div.sk-estimator input.sk-toggleable__control:checked~label.sk-toggleable__label {background-color: #d4ebff;}#sk-container-id-5 div.sk-label input.sk-toggleable__control:checked~label.sk-toggleable__label {background-color: #d4ebff;}#sk-container-id-5 input.sk-hidden--visually {border: 0;clip: rect(1px 1px 1px 1px);clip: rect(1px, 1px, 1px, 1px);height: 1px;margin: -1px;overflow: hidden;padding: 0;position: absolute;width: 1px;}#sk-container-id-5 div.sk-estimator {font-family: monospace;background-color: #f0f8ff;border: 1px dotted black;border-radius: 0.25em;box-sizing: border-box;margin-bottom: 0.5em;}#sk-container-id-5 div.sk-estimator:hover {background-color: #d4ebff;}#sk-container-id-5 div.sk-parallel-item::after {content: \"\";width: 100%;border-bottom: 1px solid gray;flex-grow: 1;}#sk-container-id-5 div.sk-label:hover label.sk-toggleable__label {background-color: #d4ebff;}#sk-container-id-5 div.sk-serial::before {content: \"\";position: absolute;border-left: 1px solid gray;box-sizing: border-box;top: 0;bottom: 0;left: 50%;z-index: 0;}#sk-container-id-5 div.sk-serial {display: flex;flex-direction: column;align-items: center;background-color: white;padding-right: 0.2em;padding-left: 0.2em;position: relative;}#sk-container-id-5 div.sk-item {position: relative;z-index: 1;}#sk-container-id-5 div.sk-parallel {display: flex;align-items: stretch;justify-content: center;background-color: white;position: relative;}#sk-container-id-5 div.sk-item::before, #sk-container-id-5 div.sk-parallel-item::before {content: \"\";position: absolute;border-left: 1px solid gray;box-sizing: border-box;top: 0;bottom: 0;left: 50%;z-index: -1;}#sk-container-id-5 div.sk-parallel-item {display: flex;flex-direction: column;z-index: 1;position: relative;background-color: white;}#sk-container-id-5 div.sk-parallel-item:first-child::after {align-self: flex-end;width: 50%;}#sk-container-id-5 div.sk-parallel-item:last-child::after {align-self: flex-start;width: 50%;}#sk-container-id-5 div.sk-parallel-item:only-child::after {width: 0;}#sk-container-id-5 div.sk-dashed-wrapped {border: 1px dashed gray;margin: 0 0.4em 0.5em 0.4em;box-sizing: border-box;padding-bottom: 0.4em;background-color: white;}#sk-container-id-5 div.sk-label label {font-family: monospace;font-weight: bold;display: inline-block;line-height: 1.2em;}#sk-container-id-5 div.sk-label-container {text-align: center;}#sk-container-id-5 div.sk-container {/* jupyter's `normalize.less` sets `[hidden] { display: none; }` but bootstrap.min.css set `[hidden] { display: none !important; }` so we also need the `!important` here to be able to override the default hidden behavior on the sphinx rendered scikit-learn.org. See: https://github.com/scikit-learn/scikit-learn/issues/21755 */display: inline-block !important;position: relative;}#sk-container-id-5 div.sk-text-repr-fallback {display: none;}</style><div id=\"sk-container-id-5\" class=\"sk-top-container\"><div class=\"sk-text-repr-fallback\"><pre>GradientBoostingClassifier(n_estimators=50, random_state=42)</pre><b>In a Jupyter environment, please rerun this cell to show the HTML representation or trust the notebook. <br />On GitHub, the HTML representation is unable to render, please try loading this page with nbviewer.org.</b></div><div class=\"sk-container\" hidden><div class=\"sk-item\"><div class=\"sk-estimator sk-toggleable\"><input class=\"sk-toggleable__control sk-hidden--visually\" id=\"sk-estimator-id-5\" type=\"checkbox\" checked><label for=\"sk-estimator-id-5\" class=\"sk-toggleable__label sk-toggleable__label-arrow\">GradientBoostingClassifier</label><div class=\"sk-toggleable__content\"><pre>GradientBoostingClassifier(n_estimators=50, random_state=42)</pre></div></div></div></div></div>"
      ],
      "text/plain": [
       "GradientBoostingClassifier(n_estimators=50, random_state=42)"
      ]
     },
     "execution_count": 127,
     "metadata": {},
     "output_type": "execute_result"
    }
   ],
   "source": [
    "from sklearn.tree import DecisionTreeClassifier\n",
    "base_model_1 = DecisionTreeClassifier(max_depth=5, random_state=42)\n",
    "base_model_2 = RandomForestClassifier(n_estimators=50, random_state=42)\n",
    "base_model_3 = GradientBoostingClassifier(n_estimators=50, random_state=42)\n",
    "\n",
    "base_model_1.fit(X_train, y_train)\n",
    "base_model_2.fit(X_train, y_train)\n",
    "base_model_3.fit(X_train, y_train)\n"
   ]
  },
  {
   "cell_type": "code",
   "execution_count": null,
   "metadata": {},
   "outputs": [],
   "source": []
  },
  {
   "cell_type": "code",
   "execution_count": 128,
   "metadata": {},
   "outputs": [
    {
     "data": {
      "text/html": [
       "<style>#sk-container-id-6 {color: black;background-color: white;}#sk-container-id-6 pre{padding: 0;}#sk-container-id-6 div.sk-toggleable {background-color: white;}#sk-container-id-6 label.sk-toggleable__label {cursor: pointer;display: block;width: 100%;margin-bottom: 0;padding: 0.3em;box-sizing: border-box;text-align: center;}#sk-container-id-6 label.sk-toggleable__label-arrow:before {content: \"▸\";float: left;margin-right: 0.25em;color: #696969;}#sk-container-id-6 label.sk-toggleable__label-arrow:hover:before {color: black;}#sk-container-id-6 div.sk-estimator:hover label.sk-toggleable__label-arrow:before {color: black;}#sk-container-id-6 div.sk-toggleable__content {max-height: 0;max-width: 0;overflow: hidden;text-align: left;background-color: #f0f8ff;}#sk-container-id-6 div.sk-toggleable__content pre {margin: 0.2em;color: black;border-radius: 0.25em;background-color: #f0f8ff;}#sk-container-id-6 input.sk-toggleable__control:checked~div.sk-toggleable__content {max-height: 200px;max-width: 100%;overflow: auto;}#sk-container-id-6 input.sk-toggleable__control:checked~label.sk-toggleable__label-arrow:before {content: \"▾\";}#sk-container-id-6 div.sk-estimator input.sk-toggleable__control:checked~label.sk-toggleable__label {background-color: #d4ebff;}#sk-container-id-6 div.sk-label input.sk-toggleable__control:checked~label.sk-toggleable__label {background-color: #d4ebff;}#sk-container-id-6 input.sk-hidden--visually {border: 0;clip: rect(1px 1px 1px 1px);clip: rect(1px, 1px, 1px, 1px);height: 1px;margin: -1px;overflow: hidden;padding: 0;position: absolute;width: 1px;}#sk-container-id-6 div.sk-estimator {font-family: monospace;background-color: #f0f8ff;border: 1px dotted black;border-radius: 0.25em;box-sizing: border-box;margin-bottom: 0.5em;}#sk-container-id-6 div.sk-estimator:hover {background-color: #d4ebff;}#sk-container-id-6 div.sk-parallel-item::after {content: \"\";width: 100%;border-bottom: 1px solid gray;flex-grow: 1;}#sk-container-id-6 div.sk-label:hover label.sk-toggleable__label {background-color: #d4ebff;}#sk-container-id-6 div.sk-serial::before {content: \"\";position: absolute;border-left: 1px solid gray;box-sizing: border-box;top: 0;bottom: 0;left: 50%;z-index: 0;}#sk-container-id-6 div.sk-serial {display: flex;flex-direction: column;align-items: center;background-color: white;padding-right: 0.2em;padding-left: 0.2em;position: relative;}#sk-container-id-6 div.sk-item {position: relative;z-index: 1;}#sk-container-id-6 div.sk-parallel {display: flex;align-items: stretch;justify-content: center;background-color: white;position: relative;}#sk-container-id-6 div.sk-item::before, #sk-container-id-6 div.sk-parallel-item::before {content: \"\";position: absolute;border-left: 1px solid gray;box-sizing: border-box;top: 0;bottom: 0;left: 50%;z-index: -1;}#sk-container-id-6 div.sk-parallel-item {display: flex;flex-direction: column;z-index: 1;position: relative;background-color: white;}#sk-container-id-6 div.sk-parallel-item:first-child::after {align-self: flex-end;width: 50%;}#sk-container-id-6 div.sk-parallel-item:last-child::after {align-self: flex-start;width: 50%;}#sk-container-id-6 div.sk-parallel-item:only-child::after {width: 0;}#sk-container-id-6 div.sk-dashed-wrapped {border: 1px dashed gray;margin: 0 0.4em 0.5em 0.4em;box-sizing: border-box;padding-bottom: 0.4em;background-color: white;}#sk-container-id-6 div.sk-label label {font-family: monospace;font-weight: bold;display: inline-block;line-height: 1.2em;}#sk-container-id-6 div.sk-label-container {text-align: center;}#sk-container-id-6 div.sk-container {/* jupyter's `normalize.less` sets `[hidden] { display: none; }` but bootstrap.min.css set `[hidden] { display: none !important; }` so we also need the `!important` here to be able to override the default hidden behavior on the sphinx rendered scikit-learn.org. See: https://github.com/scikit-learn/scikit-learn/issues/21755 */display: inline-block !important;position: relative;}#sk-container-id-6 div.sk-text-repr-fallback {display: none;}</style><div id=\"sk-container-id-6\" class=\"sk-top-container\"><div class=\"sk-text-repr-fallback\"><pre>LogisticRegression()</pre><b>In a Jupyter environment, please rerun this cell to show the HTML representation or trust the notebook. <br />On GitHub, the HTML representation is unable to render, please try loading this page with nbviewer.org.</b></div><div class=\"sk-container\" hidden><div class=\"sk-item\"><div class=\"sk-estimator sk-toggleable\"><input class=\"sk-toggleable__control sk-hidden--visually\" id=\"sk-estimator-id-6\" type=\"checkbox\" checked><label for=\"sk-estimator-id-6\" class=\"sk-toggleable__label sk-toggleable__label-arrow\">LogisticRegression</label><div class=\"sk-toggleable__content\"><pre>LogisticRegression()</pre></div></div></div></div></div>"
      ],
      "text/plain": [
       "LogisticRegression()"
      ]
     },
     "execution_count": 128,
     "metadata": {},
     "output_type": "execute_result"
    }
   ],
   "source": [
    "train_pred_1 = base_model_1.predict_proba(X_train)[:, 1]\n",
    "train_pred_2 = base_model_2.predict_proba(X_train)[:, 1]\n",
    "train_pred_3 = base_model_3.predict_proba(X_train)[:, 1]\n",
    "\n",
    "meta_train = np.column_stack((train_pred_1, train_pred_2, train_pred_3))\n",
    "\n",
    "meta_model = LogisticRegression()\n",
    "meta_model.fit(meta_train, y_train)\n"
   ]
  },
  {
   "cell_type": "code",
   "execution_count": null,
   "metadata": {},
   "outputs": [
    {
     "name": "stdout",
     "output_type": "stream",
     "text": [
      "Accuracy of Base Model 1: 0.9247\n",
      "Accuracy of Base Model 2: 1.0000\n",
      "Accuracy of Base Model 3: 0.9555\n",
      "Accuracy of Meta-Model: 0.7027\n"
     ]
    }
   ],
   "source": [
    "train_pred_1 = base_model_1.predict(X_train)\n",
    "train_pred_2 = base_model_2.predict(X_train)\n",
    "train_pred_3 = base_model_3.predict(X_train)\n",
    "\n",
    "accuracy_1 = accuracy_score(y_train, train_pred_1)\n",
    "accuracy_2 = accuracy_score(y_train, train_pred_2)\n",
    "accuracy_3 = accuracy_score(y_train, train_pred_3)\n",
    "\n",
    "print(f\"Accuracy of Base Model 1: {accuracy_1:.4f}\")\n",
    "print(f\"Accuracy of Base Model 2: {accuracy_2:.4f}\")\n",
    "print(f\"Accuracy of Base Model 3: {accuracy_3:.4f}\")\n",
    "test_pred_1 = base_model_1.predict_proba(X_test)[:, 1]\n",
    "test_pred_2 = base_model_2.predict_proba(X_test)[:, 1]\n",
    "test_pred_3 = base_model_3.predict_proba(X_test)[:, 1]\n",
    "\n",
    "meta_test = np.column_stack((test_pred_1, test_pred_2, test_pred_3))\n",
    "\n",
    "final_predictions = meta_model.predict(meta_test)\n",
    "\n",
    "meta_accuracy = accuracy_score(y_test, final_predictions)\n",
    "print(f\"Accuracy of Meta-Model: {meta_accuracy:.4f}\")\n"
   ]
  },
  {
   "cell_type": "code",
   "execution_count": 153,
   "metadata": {},
   "outputs": [
    {
     "name": "stdout",
     "output_type": "stream",
     "text": [
      "Fitting 5 folds for each of 6 candidates, totalling 30 fits\n",
      "Best Parameters for Meta-Model: {'C': 1, 'penalty': 'l1', 'solver': 'liblinear'}\n"
     ]
    }
   ],
   "source": [
    "from sklearn.model_selection import GridSearchCV\n",
    "\n",
    "param_grid_base_1 = {\n",
    "    'criterion': ['gini', 'entropy'],\n",
    "    'max_depth': [None, 10, 20, 30],\n",
    "    'min_samples_split': [2, 5, 10],\n",
    "    'min_samples_leaf': [1, 2, 4]\n",
    "}\n",
    "\n",
    "\n",
    "param_grid_base_2 = {\n",
    "    'kernel': ['linear', 'rbf', 'poly'],\n",
    "    'C': [0.1, 1, 10],\n",
    "    'gamma': ['scale', 'auto']\n",
    "}\n",
    "\n",
    "param_grid_base_3 = {\n",
    "    'n_neighbors': [3, 5, 7],\n",
    "    'weights': ['uniform', 'distance']\n",
    "}\n",
    "\n",
    "param_grid_meta = {\n",
    "    'C': [0.1, 1, 10],\n",
    "    'penalty': ['l1', 'l2'],\n",
    "    'solver': ['liblinear']\n",
    "}\n",
    "\n",
    "# grid_base_1 = GridSearchCV(base_model_1, param_grid_base_1, cv=5, scoring='accuracy', verbose=1)\n",
    "# grid_base_1.fit(X_train, y_train)\n",
    "# best_params_base_1 = grid_base_1.best_params_\n",
    "# print(f\"Best Parameters for Base Model 1 (DecisionTreeClassifier): {best_params_base_1}\")\n",
    "\n",
    "# grid_base_3 = GridSearchCV(base_model_3, param_grid_base_3, cv=5, scoring='accuracy', verbose=1)\n",
    "# grid_base_3.fit(X_train, y_train)\n",
    "# best_params_base_3 = grid_base_3.best_params_\n",
    "# print(f\"Best Parameters for Base Model 3: {best_params_base_3}\")\n",
    "\n",
    "grid_meta = GridSearchCV(meta_model, param_grid_meta, cv=5, scoring='accuracy', verbose=1)\n",
    "grid_meta.fit(meta_train, y_train)\n",
    "best_params_meta = grid_meta.best_params_\n",
    "print(f\"Best Parameters for Meta-Model: {best_params_meta}\")\n"
   ]
  },
  {
   "cell_type": "code",
   "execution_count": 163,
   "metadata": {},
   "outputs": [
    {
     "name": "stdout",
     "output_type": "stream",
     "text": [
      "Accuracy: 0.7703\n",
      "Recall: 0.7703\n",
      "F1-Score: 0.7454\n",
      "Error Rate: 0.2297\n",
      "\n",
      "Classification Report:\n",
      " {'yes': {'precision': 0.75, 'recall': 0.391304347826087, 'f1-score': 0.5142857142857143, 'support': 23}, 'no': {'precision': 0.7741935483870968, 'recall': 0.9411764705882353, 'f1-score': 0.8495575221238938, 'support': 51}, 'accuracy': 0.7702702702702703, 'macro avg': {'precision': 0.7620967741935484, 'recall': 0.6662404092071611, 'f1-score': 0.681921618204804, 'support': 74}, 'weighted avg': {'precision': 0.7666739319965127, 'recall': 0.7702702702702703, 'f1-score': 0.7453514196877028, 'support': 74}}\n"
     ]
    }
   ],
   "source": [
    "from sklearn.metrics import classification_report, accuracy_score, recall_score, f1_score, confusion_matrix\n",
    "meta_model = LogisticRegression()\n",
    "meta_model.fit(X_train, y_train)\n",
    "y_pred = meta_model.predict(X_test)\n",
    "\n",
    "accuracy = accuracy_score(y_test, y_pred)\n",
    "print(f\"Accuracy: {accuracy:.4f}\")\n",
    "\n",
    "recall = recall_score(y_test, y_pred, average='weighted')\n",
    "print(f\"Recall: {recall:.4f}\")\n",
    "\n",
    "f1 = f1_score(y_test, y_pred, average='weighted')\n",
    "print(f\"F1-Score: {f1:.4f}\")\n",
    "\n",
    "error_rate = 1 - accuracy\n",
    "print(f\"Error Rate: {error_rate:.4f}\")\n",
    "\n",
    "report = classification_report(y_test, y_pred, target_names=['yes', 'no'], output_dict=True)\n",
    "print(\"\\nClassification Report:\\n\", report)\n"
   ]
  },
  {
   "cell_type": "code",
   "execution_count": 156,
   "metadata": {},
   "outputs": [
    {
     "name": "stdout",
     "output_type": "stream",
     "text": [
      "Stacking Ensemble Accuracy: 0.70\n"
     ]
    }
   ],
   "source": [
    "accuracy = accuracy_score(y_test, final_predictions)\n",
    "print(f\"Stacking Ensemble Accuracy: {accuracy:.2f}\")\n"
   ]
  },
  {
   "cell_type": "code",
   "execution_count": 138,
   "metadata": {},
   "outputs": [
    {
     "name": "stdout",
     "output_type": "stream",
     "text": [
      "All models have been saved successfully.\n"
     ]
    }
   ],
   "source": [
    "import joblib\n",
    "\n",
    "joblib.dump(base_model_1, 'base_model_1.pkl')\n",
    "joblib.dump(base_model_2, 'base_model_2.pkl')\n",
    "joblib.dump(base_model_3, 'base_model_3.pkl')\n",
    "joblib.dump(meta_model, 'meta_model.pkl')\n",
    "\n",
    "print(\"All models have been saved successfully.\")\n"
   ]
  },
  {
   "cell_type": "code",
   "execution_count": 166,
   "metadata": {},
   "outputs": [
    {
     "name": "stdout",
     "output_type": "stream",
     "text": [
      "{'yes': {'precision': 0.75, 'recall': 0.391304347826087, 'f1-score': 0.5142857142857143, 'support': 23}, 'no': {'precision': 0.7741935483870968, 'recall': 0.9411764705882353, 'f1-score': 0.8495575221238938, 'support': 51}, 'accuracy': 0.7702702702702703, 'macro avg': {'precision': 0.7620967741935484, 'recall': 0.6662404092071611, 'f1-score': 0.681921618204804, 'support': 74}, 'weighted avg': {'precision': 0.7666739319965127, 'recall': 0.7702702702702703, 'f1-score': 0.7453514196877028, 'support': 74}}\n"
     ]
    }
   ],
   "source": [
    "print(report)"
   ]
  },
  {
   "cell_type": "code",
   "execution_count": 177,
   "metadata": {},
   "outputs": [
    {
     "name": "stdout",
     "output_type": "stream",
     "text": [
      "Accuracy: 0.7703\n",
      "Recall: 0.7703\n",
      "F1-Score: 0.7454\n",
      "Error Rate: 0.2297\n",
      "\n",
      "Classification Report:\n",
      "               precision    recall  f1-score   support\n",
      "\n",
      "         yes       0.75      0.39      0.51        23\n",
      "          no       0.77      0.94      0.85        51\n",
      "\n",
      "    accuracy                           0.77        74\n",
      "   macro avg       0.76      0.67      0.68        74\n",
      "weighted avg       0.77      0.77      0.75        74\n",
      "\n",
      "\n",
      "Confusion Matrix:\n",
      " [[ 9 14]\n",
      " [ 3 48]]\n",
      "🏃 View run upbeat-loon-861 at: http://127.0.0.1:5000/#/experiments/493903679373300216/runs/8633285176f941a49b8fe98190322c57\n",
      "🧪 View experiment at: http://127.0.0.1:5000/#/experiments/493903679373300216\n",
      "Model and metrics logged successfully!\n"
     ]
    }
   ],
   "source": [
    "import mlflow\n",
    "import mlflow.sklearn\n",
    "from sklearn.metrics import classification_report, accuracy_score, recall_score, f1_score, confusion_matrix\n",
    "from mlflow.models.signature import infer_signature\n",
    "\n",
    "mlflow.set_experiment(\"rainfall-pred\")\n",
    "mlflow.set_tracking_uri(uri='http://127.0.0.1:5000/')\n",
    "\n",
    "y_pred = meta_model.predict(X_test)\n",
    "accuracy = accuracy_score(y_test, y_pred)\n",
    "recall = recall_score(y_test, y_pred, average='weighted')\n",
    "f1 = f1_score(y_test, y_pred, average='weighted')\n",
    "error_rate = 1 - accuracy\n",
    "\n",
    "report = classification_report(y_test, y_pred, target_names=['yes', 'no'], output_dict=True)\n",
    "cm = confusion_matrix(y_test, y_pred)\n",
    "\n",
    "print(f\"Accuracy: {accuracy:.4f}\")\n",
    "print(f\"Recall: {recall:.4f}\")\n",
    "print(f\"F1-Score: {f1:.4f}\")\n",
    "print(f\"Error Rate: {error_rate:.4f}\")\n",
    "print(\"\\nClassification Report:\\n\", classification_report(y_test, y_pred, target_names=['yes', 'no']))\n",
    "print(\"\\nConfusion Matrix:\\n\", cm)\n",
    "\n",
    "input_example = X_test[:5]\n",
    "signature = infer_signature(X_test, y_pred)\n",
    "\n",
    "with mlflow.start_run():\n",
    "    mlflow.log_params(grid_meta.best_params_)\n",
    "    mlflow.log_metrics({\n",
    "        \"accuracy\": accuracy,\n",
    "        \"recall_class_yes\": report['yes']['recall'],\n",
    "        \"recall_class_no\": report['no']['recall'],\n",
    "        \"f1_score\": report['macro avg']['f1-score']\n",
    "    })\n",
    "    mlflow.sklearn.log_model(meta_model, \"Stack Model\", input_example=input_example, signature=signature)\n",
    "\n",
    "print(\"Model and metrics logged successfully!\")\n"
   ]
  },
  {
   "cell_type": "code",
   "execution_count": 176,
   "metadata": {},
   "outputs": [],
   "source": [
    "mlflow.end_run()"
   ]
  },
  {
   "cell_type": "code",
   "execution_count": 178,
   "metadata": {},
   "outputs": [
    {
     "name": "stderr",
     "output_type": "stream",
     "text": [
      "Successfully registered model 'Stack Model'.\n",
      "2024/12/19 11:46:56 INFO mlflow.store.model_registry.abstract_store: Waiting up to 300 seconds for model version to finish creation. Model name: Stack Model, version 1\n"
     ]
    },
    {
     "name": "stdout",
     "output_type": "stream",
     "text": [
      "🏃 View run upbeat-loon-861 at: http://127.0.0.1:5000/#/experiments/493903679373300216/runs/8633285176f941a49b8fe98190322c57\n",
      "🧪 View experiment at: http://127.0.0.1:5000/#/experiments/493903679373300216\n"
     ]
    },
    {
     "name": "stderr",
     "output_type": "stream",
     "text": [
      "Created version '1' of model 'Stack Model'.\n"
     ]
    }
   ],
   "source": [
    "model_name = \"Stack Model\"\n",
    "run_id = \"8633285176f941a49b8fe98190322c57\"\n",
    "model_uri= f'runs:/{run_id}/{model_name}'\n",
    "\n",
    "with mlflow.start_run(run_id=run_id):\n",
    "    mlflow.register_model(model_uri=model_uri, name=model_name)"
   ]
  },
  {
   "cell_type": "code",
   "execution_count": 179,
   "metadata": {},
   "outputs": [
    {
     "data": {
      "application/vnd.jupyter.widget-view+json": {
       "model_id": "4735f0174c1449b3970cabd604bb190f",
       "version_major": 2,
       "version_minor": 0
      },
      "text/plain": [
       "Downloading artifacts:   0%|          | 0/7 [00:00<?, ?it/s]"
      ]
     },
     "metadata": {},
     "output_type": "display_data"
    },
    {
     "data": {
      "text/plain": [
       "array([1, 1, 1, 1, 1])"
      ]
     },
     "execution_count": 179,
     "metadata": {},
     "output_type": "execute_result"
    }
   ],
   "source": [
    "from mlflow.models import validate_serving_input\n",
    "\n",
    "model_uri = 'runs:/8633285176f941a49b8fe98190322c57/Stack Model'\n",
    "\n",
    "# The model is logged with an input example. MLflow converts\n",
    "# it into the serving payload format for the deployed model endpoint,\n",
    "# and saves it to 'serving_input_payload.json'\n",
    "serving_payload = \"\"\"{\n",
    "  \"dataframe_split\": {\n",
    "    \"columns\": [\n",
    "      \"pressure \",\n",
    "      \"maxtemp\",\n",
    "      \"temparature\",\n",
    "      \"mintemp\",\n",
    "      \"dewpoint\",\n",
    "      \"humidity \",\n",
    "      \"cloud \",\n",
    "      \"sunshine\",\n",
    "      \"winddirection\",\n",
    "      \"windspeed\"\n",
    "    ],\n",
    "    \"data\": [\n",
    "      [\n",
    "        0.1468144044321349,\n",
    "        0.7500000000000002,\n",
    "        0.8436363636363635,\n",
    "        0.8884758364312269,\n",
    "        0.940959409594096,\n",
    "        0.7741935483870968,\n",
    "        0.88,\n",
    "        0.0,\n",
    "        0.6470588235294118,\n",
    "        0.21597096188747733\n",
    "      ],\n",
    "      [\n",
    "        0.695290858725766,\n",
    "        0.24657534246575347,\n",
    "        0.27636363636363637,\n",
    "        0.26765799256505585,\n",
    "        0.33210332103321033,\n",
    "        0.6612903225806452,\n",
    "        0.88,\n",
    "        0.024793388429752067,\n",
    "        0.08823529411764705,\n",
    "        0.30671506352087113\n",
    "      ],\n",
    "      [\n",
    "        0.4155124653739648,\n",
    "        0.3424657534246576,\n",
    "        0.4181818181818181,\n",
    "        0.4609665427509294,\n",
    "        0.5904059040590406,\n",
    "        0.9516129032258065,\n",
    "        0.93,\n",
    "        0.0,\n",
    "        0.14705882352941174,\n",
    "        0.6460980036297641\n",
    "      ],\n",
    "      [\n",
    "        0.4736842105263186,\n",
    "        0.6575342465753427,\n",
    "        0.749090909090909,\n",
    "        0.8029739776951673,\n",
    "        0.8413284132841328,\n",
    "        0.7580645161290323,\n",
    "        0.81,\n",
    "        0.04132231404958678,\n",
    "        0.20588235294117646,\n",
    "        0.4682395644283121\n",
    "      ],\n",
    "      [\n",
    "        0.7257617728531898,\n",
    "        0.35616438356164387,\n",
    "        0.3854545454545454,\n",
    "        0.3977695167286246,\n",
    "        0.44649446494464945,\n",
    "        0.6935483870967742,\n",
    "        0.79,\n",
    "        0.4132231404958678,\n",
    "        0.029411764705882353,\n",
    "        0.08529945553539019\n",
    "      ]\n",
    "    ]\n",
    "  }\n",
    "}\"\"\"\n",
    "\n",
    "# Validate the serving payload works on the model\n",
    "validate_serving_input(model_uri, serving_payload)"
   ]
  },
  {
   "cell_type": "code",
   "execution_count": 181,
   "metadata": {},
   "outputs": [
    {
     "data": {
      "application/vnd.jupyter.widget-view+json": {
       "model_id": "32f2ed96660b4384bf5843a12c74d357",
       "version_major": 2,
       "version_minor": 0
      },
      "text/plain": [
       "Downloading artifacts:   0%|          | 0/7 [00:00<?, ?it/s]"
      ]
     },
     "metadata": {},
     "output_type": "display_data"
    },
    {
     "data": {
      "text/plain": [
       "array([1, 1, 1, 1, 1, 1, 1, 1, 1, 1, 1, 0, 1, 1, 1, 0, 0, 1, 1, 1, 1, 1,\n",
       "       1, 0, 0, 1, 0, 1, 0, 1, 1, 1, 1, 1, 1, 1, 1, 1, 1, 0, 1, 1, 1, 1,\n",
       "       1, 1, 1, 1, 0, 1])"
      ]
     },
     "execution_count": 181,
     "metadata": {},
     "output_type": "execute_result"
    }
   ],
   "source": [
    "import mlflow\n",
    "logged_model = 'runs:/8633285176f941a49b8fe98190322c57/Stack Model'\n",
    "\n",
    "# Load model as a PyFuncModel.\n",
    "loaded_model = mlflow.pyfunc.load_model(logged_model)\n",
    "data = X_test[:50]\n",
    "# Predict on a Pandas DataFrame.\n",
    "import pandas as pd\n",
    "loaded_model.predict(pd.DataFrame(data))"
   ]
  },
  {
   "cell_type": "code",
   "execution_count": null,
   "metadata": {},
   "outputs": [],
   "source": []
  }
 ],
 "metadata": {
  "kernelspec": {
   "display_name": "Python 3",
   "language": "python",
   "name": "python3"
  },
  "language_info": {
   "codemirror_mode": {
    "name": "ipython",
    "version": 3
   },
   "file_extension": ".py",
   "mimetype": "text/x-python",
   "name": "python",
   "nbconvert_exporter": "python",
   "pygments_lexer": "ipython3",
   "version": "3.11.0"
  }
 },
 "nbformat": 4,
 "nbformat_minor": 2
}
